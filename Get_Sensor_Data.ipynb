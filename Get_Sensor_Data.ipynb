{
 "cells": [
  {
   "cell_type": "code",
   "execution_count": 1,
   "id": "5eaaf8b6",
   "metadata": {},
   "outputs": [],
   "source": [
    "import pandas as pd\n",
    "import numpy as np\n",
    "import matplotlib.pyplot as plt\n",
    "import ipdb\n",
    "import os\n",
    "import urllib.request"
   ]
  },
  {
   "cell_type": "markdown",
   "id": "d7c000f7",
   "metadata": {},
   "source": [
    "# Process json file to DataFrame, which contains the information of all the detectors"
   ]
  },
  {
   "cell_type": "code",
   "execution_count": 3,
   "id": "cf8af0cc",
   "metadata": {},
   "outputs": [],
   "source": [
    "with open('./data/highway_england_sites.json') as file:\n",
    "    site_info = file.read()"
   ]
  },
  {
   "cell_type": "code",
   "execution_count": 4,
   "id": "f1ff0c58",
   "metadata": {},
   "outputs": [],
   "source": [
    "site_info = site_info.split('},{')"
   ]
  },
  {
   "cell_type": "code",
   "execution_count": 56,
   "id": "d9f19e3a",
   "metadata": {
    "scrolled": false
   },
   "outputs": [],
   "source": [
    "site_info_df = []\n",
    "for c in range(len(site_info)):  # total len: 19022\n",
    "    info_temp = site_info[c]\n",
    "    info_temp = [i.split(':') for i in info_temp.split(',')]\n",
    "    try:\n",
    "        info_temp[1] = [info_temp[1][0], info_temp[1][1] + info_temp[1][2]]\n",
    "    except:\n",
    "        None\n",
    "    try:\n",
    "        assert(len(info_temp)==6)\n",
    "    except:\n",
    "        temp = ''\n",
    "        temp_2 = [temp+i[0] for i in info_temp[2:len(info_temp)-4]][0]\n",
    "        info_temp[1][1] = info_temp[1][1] + ':' + temp_2\n",
    "        del info_temp[2:len(info_temp)-4]\n",
    "    for i in range(len(info_temp)):\n",
    "        for j in range(len(info_temp[i])):\n",
    "            info_temp[i][j] = info_temp[i][j].strip('\"')\n",
    "    site_info_df.append(pd.Series(pd.DataFrame(info_temp).loc[:, 1]))\n",
    "    \n",
    "site_info_df = pd.DataFrame(site_info_df, index = range(len(site_info_df)))\n",
    "site_info_df.columns = ['Id', 'Name', 'Description', 'Longitude', 'Latitude', 'Status']"
   ]
  },
  {
   "cell_type": "code",
   "execution_count": 59,
   "id": "9787f789",
   "metadata": {},
   "outputs": [
    {
     "data": {
      "text/html": [
       "<div>\n",
       "<style scoped>\n",
       "    .dataframe tbody tr th:only-of-type {\n",
       "        vertical-align: middle;\n",
       "    }\n",
       "\n",
       "    .dataframe tbody tr th {\n",
       "        vertical-align: top;\n",
       "    }\n",
       "\n",
       "    .dataframe thead th {\n",
       "        text-align: right;\n",
       "    }\n",
       "</style>\n",
       "<table border=\"1\" class=\"dataframe\">\n",
       "  <thead>\n",
       "    <tr style=\"text-align: right;\">\n",
       "      <th></th>\n",
       "      <th>Id</th>\n",
       "      <th>Name</th>\n",
       "      <th>Description</th>\n",
       "      <th>Longitude</th>\n",
       "      <th>Latitude</th>\n",
       "      <th>Status</th>\n",
       "    </tr>\n",
       "  </thead>\n",
       "  <tbody>\n",
       "    <tr>\n",
       "      <th>0</th>\n",
       "      <td>1</td>\n",
       "      <td>MIDAS site at M4/2295A2 priority 1 on link 105...</td>\n",
       "      <td>M4/2295A2</td>\n",
       "      <td>-0.520379557723297</td>\n",
       "      <td>51.4930115367112</td>\n",
       "      <td>Inactive</td>\n",
       "    </tr>\n",
       "    <tr>\n",
       "      <th>1</th>\n",
       "      <td>2</td>\n",
       "      <td>MIDAS site at A1M/2259B priority 1 on link 126...</td>\n",
       "      <td>A1M/2259B</td>\n",
       "      <td>-0.320275451712423</td>\n",
       "      <td>52.5351577963853</td>\n",
       "      <td>Active</td>\n",
       "    </tr>\n",
       "    <tr>\n",
       "      <th>2</th>\n",
       "      <td>3</td>\n",
       "      <td>MIDAS site at M5/7482B priority 1 on link 1090...</td>\n",
       "      <td>M5/7482B</td>\n",
       "      <td>-2.17513825916014</td>\n",
       "      <td>52.1756517888158</td>\n",
       "      <td>Active</td>\n",
       "    </tr>\n",
       "    <tr>\n",
       "      <th>3</th>\n",
       "      <td>4</td>\n",
       "      <td>MIDAS site at M3/2173A priority 1 on link 1030...</td>\n",
       "      <td>M3/2173A</td>\n",
       "      <td>-1.39237366736779</td>\n",
       "      <td>50.9603586282494</td>\n",
       "      <td>Active</td>\n",
       "    </tr>\n",
       "    <tr>\n",
       "      <th>4</th>\n",
       "      <td>5</td>\n",
       "      <td>MIDAS site at M25/5764B priority 1 on link 199...</td>\n",
       "      <td>M25/5764B</td>\n",
       "      <td>0.283161593410359</td>\n",
       "      <td>51.5756168053165</td>\n",
       "      <td>Active</td>\n",
       "    </tr>\n",
       "    <tr>\n",
       "      <th>...</th>\n",
       "      <td>...</td>\n",
       "      <td>...</td>\n",
       "      <td>...</td>\n",
       "      <td>...</td>\n",
       "      <td>...</td>\n",
       "      <td>...</td>\n",
       "    </tr>\n",
       "    <tr>\n",
       "      <th>19017</th>\n",
       "      <td>19441</td>\n",
       "      <td>MIDAS site at M27/9165L priority 1 on link 103...</td>\n",
       "      <td>M27/9165L</td>\n",
       "      <td>-1.40031373082163</td>\n",
       "      <td>50.9541408700334</td>\n",
       "      <td>Active</td>\n",
       "    </tr>\n",
       "    <tr>\n",
       "      <th>19018</th>\n",
       "      <td>19442</td>\n",
       "      <td>MIDAS site at M27/9291A priority 1 on link 103...</td>\n",
       "      <td>M27/9291A</td>\n",
       "      <td>-1.29270063745019</td>\n",
       "      <td>50.8880996838257</td>\n",
       "      <td>Active</td>\n",
       "    </tr>\n",
       "    <tr>\n",
       "      <th>19019</th>\n",
       "      <td>19443</td>\n",
       "      <td>MIDAS site at M6/6431A priority 1 on link 1110...</td>\n",
       "      <td>M6/6431A</td>\n",
       "      <td>-2.21788537714</td>\n",
       "      <td>52.9485949226556</td>\n",
       "      <td>Active</td>\n",
       "    </tr>\n",
       "    <tr>\n",
       "      <th>19020</th>\n",
       "      <td>19444</td>\n",
       "      <td>TMU Site 9976/1 on link A1 southbound access f...</td>\n",
       "      <td>9976/1</td>\n",
       "      <td>-0.230147293685459</td>\n",
       "      <td>51.6840632692531</td>\n",
       "      <td>Active</td>\n",
       "    </tr>\n",
       "    <tr>\n",
       "      <th>19021</th>\n",
       "      <td>19445</td>\n",
       "      <td>MIDAS site at M6/5939L priority 1 on link 1120...</td>\n",
       "      <td>M6/5939L</td>\n",
       "      <td>-1.97922643511104</td>\n",
       "      <td>52.5591588582153</td>\n",
       "      <td>Active</td>\n",
       "    </tr>\n",
       "  </tbody>\n",
       "</table>\n",
       "<p>19022 rows × 6 columns</p>\n",
       "</div>"
      ],
      "text/plain": [
       "          Id                                               Name Description  \\\n",
       "0          1  MIDAS site at M4/2295A2 priority 1 on link 105...   M4/2295A2   \n",
       "1          2  MIDAS site at A1M/2259B priority 1 on link 126...   A1M/2259B   \n",
       "2          3  MIDAS site at M5/7482B priority 1 on link 1090...    M5/7482B   \n",
       "3          4  MIDAS site at M3/2173A priority 1 on link 1030...    M3/2173A   \n",
       "4          5  MIDAS site at M25/5764B priority 1 on link 199...   M25/5764B   \n",
       "...      ...                                                ...         ...   \n",
       "19017  19441  MIDAS site at M27/9165L priority 1 on link 103...   M27/9165L   \n",
       "19018  19442  MIDAS site at M27/9291A priority 1 on link 103...   M27/9291A   \n",
       "19019  19443  MIDAS site at M6/6431A priority 1 on link 1110...    M6/6431A   \n",
       "19020  19444  TMU Site 9976/1 on link A1 southbound access f...      9976/1   \n",
       "19021  19445  MIDAS site at M6/5939L priority 1 on link 1120...    M6/5939L   \n",
       "\n",
       "                Longitude          Latitude    Status  \n",
       "0      -0.520379557723297  51.4930115367112  Inactive  \n",
       "1      -0.320275451712423  52.5351577963853    Active  \n",
       "2       -2.17513825916014  52.1756517888158    Active  \n",
       "3       -1.39237366736779  50.9603586282494    Active  \n",
       "4       0.283161593410359  51.5756168053165    Active  \n",
       "...                   ...               ...       ...  \n",
       "19017   -1.40031373082163  50.9541408700334    Active  \n",
       "19018   -1.29270063745019  50.8880996838257    Active  \n",
       "19019      -2.21788537714  52.9485949226556    Active  \n",
       "19020  -0.230147293685459  51.6840632692531    Active  \n",
       "19021   -1.97922643511104  52.5591588582153    Active  \n",
       "\n",
       "[19022 rows x 6 columns]"
      ]
     },
     "execution_count": 59,
     "metadata": {},
     "output_type": "execute_result"
    }
   ],
   "source": [
    "site_info_df"
   ]
  },
  {
   "cell_type": "markdown",
   "id": "0b762701",
   "metadata": {},
   "source": [
    "# Request csv files"
   ]
  },
  {
   "cell_type": "markdown",
   "id": "51826506",
   "metadata": {},
   "source": [
    "## url format:\n",
    "#### https://webtris.highwaysengland.co.uk/Report/DownloadReport?From=01012021&To=01092021&EnumReportType=1&SiteId=455&EnumReportSubType=1"
   ]
  },
  {
   "cell_type": "code",
   "execution_count": 60,
   "id": "9f45f4a1",
   "metadata": {},
   "outputs": [],
   "source": [
    "root = 'https://webtris.highwaysengland.co.uk/Report/DownloadReport?'\n",
    "date_from = '01012020'  # ddmmyyyy\n",
    "date_to = '01092021'  # ddmmyyyy"
   ]
  },
  {
   "cell_type": "code",
   "execution_count": 69,
   "id": "2c3b8c15",
   "metadata": {},
   "outputs": [],
   "source": [
    "det_list_M4 = ['M4/2156A', 'M4/2168A', 'M4/2178A', 'M4/2188A', 'M4/2206A', 'M4/2210A', 'M4/2156B', 'M4/2162B', 'M4/2168B', 'M4/2178B', 'M4/2188B', 'M4/2206B', 'M4/2210B']  # selected manually\n",
    "det_list_M1 = ['M1/2114A', 'M1/2116B', 'M1/2147B', 'M1/2149A', 'M1/2150K', 'M1/2181B', 'M1/2185J', 'M1/2185B', 'M1/2220A', 'M1/2220B', 'M1/2247B', 'M1/2253A', 'M1/2277B', 'M1/2279A', 'M1/2292B', 'M1/2293A', 'M1/2297B', 'M1/2297A', 'M1/2317B', 'M1/2320A', 'M1/2332A', 'M1/2331B', 'M1/2335A']\n",
    "\n",
    "siteID_M4 = [site_info_df.loc[site_info_df['Description']==i, 'Id'].values[0] for i in det_list_M4]\n",
    "siteID_M1 = [site_info_df.loc[site_info_df['Description']==i, 'Id'].values[0] for i in det_list_M1]"
   ]
  },
  {
   "cell_type": "code",
   "execution_count": 83,
   "id": "91d24221",
   "metadata": {},
   "outputs": [],
   "source": [
    "def get_csv(siteName, siteID):\n",
    "    url = 'https://webtris.highwaysengland.co.uk/Report/DownloadReport?From=' + \\\n",
    "                date_from + '&To=' + date_to + '&EnumReportType=1&SiteId=' + siteID + '&EnumReportSubType=1'\n",
    "    urllib.request.urlretrieve(url, './data/%s_%s_%s_%s.csv'%(siteName[:2], siteName[3:], date_from, date_to))"
   ]
  },
  {
   "cell_type": "code",
   "execution_count": 84,
   "id": "c741e892",
   "metadata": {},
   "outputs": [],
   "source": [
    "# for i in range(len(det_list_M1)):\n",
    "#     get_csv(det_list_M1[i], siteID_M1[i])\n",
    "\n",
    "# for i in range(len(det_list_M4)):\n",
    "#     get_csv(det_list_M4[i], siteID_M4[i])"
   ]
  },
  {
   "cell_type": "code",
   "execution_count": null,
   "id": "35dfad07",
   "metadata": {},
   "outputs": [],
   "source": []
  }
 ],
 "metadata": {
  "kernelspec": {
   "display_name": "tca_traff",
   "language": "python",
   "name": "tca_traff"
  },
  "language_info": {
   "codemirror_mode": {
    "name": "ipython",
    "version": 3
   },
   "file_extension": ".py",
   "mimetype": "text/x-python",
   "name": "python",
   "nbconvert_exporter": "python",
   "pygments_lexer": "ipython3",
   "version": "3.8.11"
  }
 },
 "nbformat": 4,
 "nbformat_minor": 5
}
